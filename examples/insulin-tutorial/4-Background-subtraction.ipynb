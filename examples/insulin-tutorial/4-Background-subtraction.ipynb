{
 "cells": [
  {
   "cell_type": "markdown",
   "id": "48ce1d96-6a88-42f8-aeca-f3ba4744b295",
   "metadata": {},
   "source": [
    "## Part 4: Background Subtraction\n",
    "\n",
    "Diffuse scattering experiments are different from Bragg data collection in that background must be measured carefully and subtracted. For insulin, background images were collected using 1 second exposures every 1 degree of rotation (compared with 0.1 second / 0.1 degree for the crystal). The background dataset was previously imported using _DIALS_ in Part 1 to produce the file `background.expt`. First, import the dataset using `mdx2.import_data`"
   ]
  },
  {
   "cell_type": "code",
   "execution_count": 1,
   "id": "003898af-3265-445f-9af5-289d7a5e3015",
   "metadata": {
    "collapsed": true,
    "jupyter": {
     "outputs_hidden": true
    },
    "tags": []
   },
   "outputs": [
    {
     "name": "stdout",
     "output_type": "stream",
     "text": [
      "Exporting <class 'mdx2.data.ImageSeries'> to nexus object\n",
      "  writing image_series to bkg_data.nxs\n",
      "ImageSet: reading frame 0\n",
      "ImageSet: reading frame 1\n",
      "ImageSet: reading frame 2\n",
      "ImageSet: reading frame 3\n",
      "ImageSet: reading frame 4\n",
      "ImageSet: reading frame 5\n",
      "ImageSet: reading frame 6\n",
      "ImageSet: reading frame 7\n",
      "ImageSet: reading frame 8\n",
      "ImageSet: reading frame 9\n",
      "ImageSet: reading frame 10\n",
      "ImageSet: reading frame 11\n",
      "ImageSet: reading frame 12\n",
      "ImageSet: reading frame 13\n",
      "ImageSet: reading frame 14\n",
      "ImageSet: reading frame 15\n",
      "ImageSet: reading frame 16\n",
      "ImageSet: reading frame 17\n",
      "ImageSet: reading frame 18\n",
      "ImageSet: reading frame 19\n",
      "ImageSet: reading frame 20\n",
      "ImageSet: reading frame 21\n",
      "ImageSet: reading frame 22\n",
      "ImageSet: reading frame 23\n",
      "ImageSet: reading frame 24\n",
      "ImageSet: reading frame 25\n",
      "ImageSet: reading frame 26\n",
      "ImageSet: reading frame 27\n",
      "ImageSet: reading frame 28\n",
      "ImageSet: reading frame 29\n",
      "ImageSet: reading frame 30\n",
      "ImageSet: reading frame 31\n",
      "ImageSet: reading frame 32\n",
      "ImageSet: reading frame 33\n",
      "ImageSet: reading frame 34\n",
      "ImageSet: reading frame 35\n",
      "ImageSet: reading frame 36\n",
      "ImageSet: reading frame 37\n",
      "ImageSet: reading frame 38\n",
      "ImageSet: reading frame 39\n",
      "ImageSet: reading frame 40\n",
      "ImageSet: reading frame 41\n",
      "ImageSet: reading frame 42\n",
      "ImageSet: reading frame 43\n",
      "ImageSet: reading frame 44\n",
      "ImageSet: reading frame 45\n",
      "ImageSet: reading frame 46\n",
      "ImageSet: reading frame 47\n",
      "ImageSet: reading frame 48\n",
      "ImageSet: reading frame 49\n",
      "done!\n"
     ]
    }
   ],
   "source": [
    "!mdx2.import_data background.expt --outfile bkg_data.nxs --chunks 10 211 493"
   ]
  },
  {
   "cell_type": "markdown",
   "id": "e0b5922d-3ae8-42fd-a3ff-26e32df87538",
   "metadata": {},
   "source": [
    "Inspect the images in `bkg_data.nxs` using _NeXpy_. The background pattern includes scattering from air, diffuse rings from the capillary surrounding the crystal, and a shadow of the pin. \n",
    "\n",
    "Because the background features vary gradually across the detector and with rotation angle, the noise can be reduced by smoothing. In _mdx2_, a downsampling (binning) method is used. "
   ]
  },
  {
   "cell_type": "code",
   "execution_count": 2,
   "id": "4cd03b34-93ca-4bcc-b7e3-354fb486cee7",
   "metadata": {
    "collapsed": true,
    "jupyter": {
     "outputs_hidden": true
    },
    "tags": []
   },
   "outputs": [
    {
     "name": "stdout",
     "output_type": "stream",
     "text": [
      "Reading image_series from bkg_data.nxs\n",
      "  importing as ImageSeries from mdx2.data\n",
      "binning frames 0 to 9\n",
      "/nfs/chess/user/spm82/dev/mdx2/mdx2/data.py:254: UserWarning: Warning: converting a masked element to nan.\n",
      "  new_data[ind_phi,ind_y,ind_x] = tmp[:,sl_y,sl_x].mean()\n",
      "binning frames 10 to 19\n",
      "binning frames 20 to 29\n",
      "binning frames 30 to 39\n",
      "binning frames 40 to 49\n",
      "saving to file: bkg_data_binned.nxs\n",
      "Exporting <class 'mdx2.geometry.GridData'> to nexus object\n",
      "  writing binned_image_series to bkg_data_binned.nxs\n"
     ]
    }
   ],
   "source": [
    "!mdx2.bin_image_series bkg_data.nxs 10 20 20 --valid_range 0 200 --outfile bkg_data_binned.nxs"
   ]
  },
  {
   "cell_type": "markdown",
   "id": "cd29fde2-7447-4bf3-9a96-6d02874a8ac5",
   "metadata": {},
   "source": [
    "The function has three mandatory arguments after the input file name to specify the bin size (here, 10 degrees by 20 pixels by 20 pixels). In addition, the optional argument `valid_range` is used to mask any pixel with counts outside the given interval. Here, a maximum of 200 counts was chosen to be 10 times the nominal background level of ~20 counts per pixel. The threshold is used to reject broken pixels and stray diffraction if present (e.g. from tiny salt crystals), and is similar to `count_threshold` in `mdx2.find_peaks` described in Part 3.\n",
    "\n",
    "The resulting binned image stack is saved as `bkg_data_binned.nxs` and can be viewed using _NeXpy_. The binned images will be used after integration when applying geometric corrections in Part 5."
   ]
  }
 ],
 "metadata": {
  "kernelspec": {
   "display_name": "SPM mdx2",
   "language": "python",
   "name": "mdx2"
  },
  "language_info": {
   "codemirror_mode": {
    "name": "ipython",
    "version": 3
   },
   "file_extension": ".py",
   "mimetype": "text/x-python",
   "name": "python",
   "nbconvert_exporter": "python",
   "pygments_lexer": "ipython3",
   "version": "3.10.8"
  }
 },
 "nbformat": 4,
 "nbformat_minor": 5
}
